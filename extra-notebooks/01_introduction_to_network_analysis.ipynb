{
  "nbformat": 4,
  "nbformat_minor": 0,
  "metadata": {
    "colab": {
      "provenance": [],
      "toc_visible": true
    },
    "kernelspec": {
      "name": "python3",
      "display_name": "Python 3"
    },
    "language_info": {
      "name": "python"
    }
  },
  "cells": [
    {
      "cell_type": "markdown",
      "source": [
        "This notebooks is produced by:\n",
        "\n",
        "- [Network Analysis Made Simple](https://ericmjl.github.io/Network-Analysis-Made-Simple/) by [Eric Ma](https://github.com/ericmjl) and [Mridul Seth](https://github.com/MridulS)."
      ],
      "metadata": {
        "id": "dsRtBIEVsTV-"
      }
    },
    {
      "cell_type": "markdown",
      "metadata": {
        "id": "jGEHGoBCqVov"
      },
      "source": [
        "## Introduction to Network Analysis"
      ]
    },
    {
      "cell_type": "code",
      "execution_count": null,
      "metadata": {
        "colab": {
          "base_uri": "https://localhost:8080/",
          "height": 321
        },
        "id": "3kGqMQVpqVoy",
        "outputId": "ccd8a92a-92d4-44f5-ace3-7a0de2dbfc94"
      },
      "outputs": [
        {
          "output_type": "execute_result",
          "data": {
            "text/plain": [
              "<IPython.lib.display.YouTubeVideo at 0x7f7fbda74460>"
            ],
            "text/html": [
              "\n",
              "        <iframe\n",
              "            width=\"100%\"\n",
              "            height=\"300\"\n",
              "            src=\"https://www.youtube.com/embed/k4KHoLC7TFE\"\n",
              "            frameborder=\"0\"\n",
              "            allowfullscreen\n",
              "            \n",
              "        ></iframe>\n",
              "        "
            ],
            "image/jpeg": "[encoded data removed]"
          },
          "metadata": {},
          "execution_count": 1
        }
      ],
      "source": [
        "from IPython.display import YouTubeVideo\n",
        "\n",
        "YouTubeVideo(id=\"k4KHoLC7TFE\", width=\"100%\")"
      ]
    },
    {
      "cell_type": "markdown",
      "metadata": {
        "id": "ov5wHvxMqVo2"
      },
      "source": [
        "In our world, networks are an immensely useful _data modelling tool_\n",
        "to model complex _relational_ problems.\n",
        "Building on top of a network-oriented data model,\n",
        "they have been put to great use in a wide variety of settings."
      ]
    },
    {
      "cell_type": "markdown",
      "metadata": {
        "id": "jrG-Mj97qVo4"
      },
      "source": [
        "## A _formal_ definition of networks\n",
        "\n",
        "Before we explore examples of networks,\n",
        "we want to first give you a more formal definition\n",
        "of what networks are.\n",
        "The reason is that knowing a _formal_ definition\n",
        "helps us refine our application of networks.\n",
        "So bear with me for a moment.\n",
        "\n",
        "In the slightly more academic literature,\n",
        "networks are more formally referred to as **graphs**.\n",
        "\n",
        "Graphs are comprised of two _sets_ of objects:\n",
        "\n",
        "- A **node set**: the \"entities\" in a graph.\n",
        "- An **edge set**: the record of \"relationships\" between the entities in the graph.\n",
        "\n",
        "For example, if a **node set** $n$ is comprised of elements:\n",
        "\n",
        "$$n = \\{a, b, c, d, ...\\}$$\n",
        "\n",
        "Then, the **edge set** $e$ would be represented as tuples of _pairs_ of elements:\n",
        "\n",
        "$$e = \\{(a, b), (a, c), (c, d), ...\\}$$\n",
        "\n",
        "If you extracted every node from the edge set $e$,\n",
        "it should form _at least a subset_ of the node set $n$.\n",
        "(It is at least a subset because not every node in $n$ might participate in an edge.)\n",
        "\n",
        "If you draw out a network, the \"nodes\" are commonly represented as shapes, such as circles,\n",
        "while the \"edges\" are the lines between the shapes."
      ]
    },
    {
      "cell_type": "markdown",
      "metadata": {
        "id": "NhODM-4bqVo7"
      },
      "source": [
        "## Examples of Networks\n",
        "\n",
        "Now that we have a proper definition of a graph,\n",
        "let's move on to explore examples of graphs.\n",
        "\n",
        "One example I (Eric Ma) am fond of, based on my background as a biologist,\n",
        "is a protein-protein interaction network.\n",
        "Here, the graph can be defined in the following way:\n",
        "\n",
        "- nodes/entities are the proteins,\n",
        "- edges/relationships are defined as \"one protein is known to bind with another\".\n",
        "\n",
        "A more colloquial example of networks is an air transportation network.\n",
        "Here, the graph can be defined in the following way:\n",
        "\n",
        "- nodes/entities are airports\n",
        "- edges/relationships are defined as \"at least one flight carrier flies between the airports\".\n",
        "\n",
        "And another even more relatable example would be our ever-prevalent social networks!\n",
        "With Twitter, the graph can be defined in the following way:\n",
        "\n",
        "- nodes/entities are individual users\n",
        "- edges/relationships are defined as \"one user has decided to follow another\".\n",
        "\n",
        "Now that you've seen the framework for defining a graph,\n",
        "we'd like to invite you to answer the following question:\n",
        "**What examples of networks have _you_ seen before in your profession?**\n",
        "\n",
        "Go ahead and list it out."
      ]
    },
    {
      "cell_type": "markdown",
      "metadata": {
        "id": "zSHbd8MjqVo8"
      },
      "source": [
        "## Types of Graphs\n",
        "\n",
        "As you probably can see, graphs are a really flexible data model\n",
        "for modelling the world,\n",
        "as long as the nodes and edges are strictly defined.\n",
        "(If the nodes and edges are _sloppily_ defined,\n",
        "well, we run into a lot of interpretability problems later on.)\n",
        "\n",
        "If you are a member of both LinkedIn and Twitter,\n",
        "you might intuitively think that there's a _slight_ difference\n",
        "in the structure of the two \"social graphs\".\n",
        "You'd be absolutely correct on that count!\n",
        "\n",
        "Twitter is an example of what we would intuitively call a **directed** graph.\n",
        "Why is this so?\n",
        "The key here lies in how interactions are modelled.\n",
        "One user can follow another, but the other need not necessarily follow back.\n",
        "As such, there is a _directionality_ to the relationship.\n",
        "\n",
        "LinkedIn is an example of what we would intuitively call an **undirected** graph.\n",
        "Why is this so?\n",
        "The key here is that when two users are LinkedIn connections,\n",
        "we _automatically_ assign a bi-directional edge between them.\n",
        "As such, for convenience, we can collapse the bi-directional edge\n",
        "into an _undirected_ edge,\n",
        "thus yielding an undirected graph.\n",
        "\n",
        "If we wanted to turn LinkedIn into a directed graph,\n",
        "we might want to keep information on who initiated the invitation.\n",
        "In that way, the relationship is automatically bi-directional."
      ]
    },
    {
      "cell_type": "markdown",
      "metadata": {
        "id": "N97prqtdqVo_"
      },
      "source": [
        "## Edges define the interesting part of a graph\n",
        "\n",
        "While in graduate school, I (Eric Ma) once sat in a seminar\n",
        "organized by one of the professors on my thesis committee.\n",
        "The speaker that day was John Quackenbush,\n",
        "a faculty member of the Harvard School of Public Health.\n",
        "While the topic of the day remained fuzzy in my memory,\n",
        "one quote stood out:\n",
        "\n",
        "> The heart of a graph lies in its edges, not in its nodes.\n",
        "> (John Quackenbush, Harvard School of Public Health)\n",
        "\n",
        "Indeed, this is a key point to remember!\n",
        "Without edges, the nodes are merely collections of entities.\n",
        "In a data table, they would correspond to the rows.\n",
        "That alone can be interesting,\n",
        "but doesn't yield _relational insights_ between the entities."
      ]
    },
    {
      "cell_type": "markdown",
      "source": [
        "## Introduction to the NetworkX API"
      ],
      "metadata": {
        "id": "IPZJJ0h5sxpF"
      }
    },
    {
      "cell_type": "code",
      "execution_count": null,
      "metadata": {
        "id": "6LnhyeVGssM3"
      },
      "outputs": [],
      "source": [
        "%load_ext autoreload\n",
        "%autoreload 2\n",
        "%matplotlib inline\n",
        "%config InlineBackend.figure_format = 'retina'"
      ]
    },
    {
      "cell_type": "code",
      "execution_count": null,
      "metadata": {
        "id": "I9khUed_ssNA"
      },
      "outputs": [],
      "source": [
        "from IPython.display import YouTubeVideo\n",
        "\n",
        "YouTubeVideo(id='sdF0uJo2KdU', width=\"100%\")"
      ]
    },
    {
      "cell_type": "markdown",
      "metadata": {
        "id": "9-g66VeYssND"
      },
      "source": [
        "In this chapter, we will introduce you to the NetworkX API.\n",
        "This will allow you to create and manipulate graphs in your computer memory,\n",
        "thus giving you a language \n",
        "to more concretely explore graph theory ideas.\n",
        "\n",
        "Throughout the book, we will be using different graph datasets\n",
        "to help us anchor ideas.\n",
        "In this section, we will work with a social network of seventh graders.\n",
        "Here, nodes are individual students,\n",
        "and edges represent their relationships.\n",
        "Edges between individuals show how often\n",
        "the seventh graders indicated other seventh graders as their favourite.\n",
        "\n",
        "The data are taken from the [Konect] graph data repository\n",
        "\n",
        "[Konect]: http://konect.cc/networks/moreno_seventh"
      ]
    },
    {
      "cell_type": "markdown",
      "metadata": {
        "id": "m7IaQi92ssNH"
      },
      "source": [
        "## Data Model\n",
        "\n",
        "In NetworkX, graph data are stored in a dictionary-like fashion.\n",
        "They are placed under a `Graph` object,\n",
        "canonically instantiated with the variable `G` as follows:\n",
        "\n",
        "```python\n",
        "G = nx.Graph()\n",
        "```\n",
        "\n",
        "Of course, you are free to name the graph anything you want!\n",
        "\n",
        "Nodes are part of the attribute `G.nodes`.\n",
        "There, the node data are housed in a dictionary-like container,\n",
        "where the key is the node itself\n",
        "and the values are a dictionary of attributes. \n",
        "Node data are accessible using syntax that looks like:\n",
        "\n",
        "```python\n",
        "G.nodes[node1]\n",
        "```\n",
        "\n",
        "Edges are part of the attribute `G.edges`,\n",
        "which is also stored in a dictionary-like container.\n",
        "Edge data are accessible using syntax that looks like: \n",
        "\n",
        "```python\n",
        "G.edges[node1, node2]\n",
        "```\n",
        "Because of the dictionary-like implementation of the graph,\n",
        "any hashable object can be a node.\n",
        "This means strings and tuples, but not lists and sets."
      ]
    },
    {
      "cell_type": "markdown",
      "metadata": {
        "id": "w6P07WkyssNK"
      },
      "source": [
        "## Load Data\n",
        "\n",
        "Let's load some real network data to get a feel for the NetworkX API. This [dataset](http://konect.cc/networks/moreno_seventh) comes from a study of 7th grade students.\n",
        "\n",
        "> This directed network contains proximity ratings between students\n",
        "> from 29 seventh grade students from a school in Victoria.\n",
        "> Among other questions the students were asked\n",
        "> to nominate their preferred classmates for three different activities.\n",
        "> A node represents a student.\n",
        "> An edge between two nodes shows that\n",
        "> the left student picked the right student as his or her answer.\n",
        "> The edge weights are between 1 and 3 \n",
        "> and show how often the left student chose the right student as his/her favourite.\n",
        "\n",
        "In the original dataset, students were from an all-boys school.\n",
        "However, I have modified the dataset to instead be a mixed-gender school.\n",
        "\n",
        "[README - Details of moreno_seventh](https://github.com/ericmjl/Network-Analysis-Made-Simple/blob/master/data/moreno_seventh/README.moreno_seventh)"
      ]
    },
    {
      "cell_type": "code",
      "execution_count": null,
      "metadata": {
        "id": "MkY7e-r5ssNN"
      },
      "outputs": [],
      "source": [
        "import networkx as nx\n",
        "from datetime import datetime\n",
        "import matplotlib.pyplot as plt\n",
        "import numpy as np\n",
        "import pandas as pd\n",
        "import warnings\n",
        "\n",
        "warnings.filterwarnings('ignore')"
      ]
    },
    {
      "cell_type": "code",
      "execution_count": null,
      "metadata": {
        "id": "YMWErKGgssNO"
      },
      "outputs": [],
      "source": [
        "# Read the edge list\n",
        "df = pd.read_csv(\n",
        "    \"https://raw.githubusercontent.com/ericmjl/Network-Analysis-Made-Simple/master/data/moreno_seventh/out.moreno_seventh_seventh\",\n",
        "    skiprows=2,\n",
        "    header=None,\n",
        "    sep=\" \",\n",
        ")\n",
        "\n",
        "df.columns = [\"student1\", \"student2\", \"count\"]\n",
        "\n",
        "# Read the node metadata\n",
        "meta = pd.read_csv(\n",
        "   \"https://raw.githubusercontent.com/ericmjl/Network-Analysis-Made-Simple/master/data/moreno_seventh/ent.moreno_seventh_seventh.student.gender\",\n",
        "    header=None,\n",
        ")\n",
        "meta.index += 1\n",
        "meta.columns = [\"gender\"]\n",
        "\n",
        "# Construct graph from edge list.\n",
        "G = nx.DiGraph()\n",
        "for row in df.iterrows():\n",
        "    G.add_edge(row[1][\"student1\"], row[1][\"student2\"], count=row[1][\"count\"])\n",
        "# Add node metadata\n",
        "for n in G.nodes():\n",
        "    G.nodes[n][\"gender\"] = meta.loc[n][\"gender\"]\n"
      ]
    },
    {
      "cell_type": "markdown",
      "metadata": {
        "id": "f7vjElqqssNQ"
      },
      "source": [
        "## Understanding a graph's basic statistics\n",
        "\n",
        "When you get graph data,\n",
        "one of the first things you'll want to do is to\n",
        "check its basic graph statistics:\n",
        "the number of nodes\n",
        "and the number of edges\n",
        "that are represented in the graph.\n",
        "This is a basic sanity-check on your data\n",
        "that you don't want to skip out on.\n",
        "\n",
        "### Querying graph type\n",
        "\n",
        "The first thing you need to know is the `type` of the graph:"
      ]
    },
    {
      "cell_type": "code",
      "execution_count": null,
      "metadata": {
        "id": "y-k4nJ_issNS",
        "colab": {
          "base_uri": "https://localhost:8080/"
        },
        "outputId": "98ef852a-802f-453e-897b-068428d8f254"
      },
      "outputs": [
        {
          "output_type": "execute_result",
          "data": {
            "text/plain": [
              "networkx.classes.digraph.DiGraph"
            ]
          },
          "metadata": {},
          "execution_count": 8
        }
      ],
      "source": [
        "type(G)"
      ]
    },
    {
      "cell_type": "markdown",
      "metadata": {
        "id": "lUNdTUAmssNU"
      },
      "source": [
        "Because the graph is a `DiGraph`,\n",
        "this tells us that the graph is a **directed** one.\n",
        "\n",
        "If it were undirected, the type would change:"
      ]
    },
    {
      "cell_type": "code",
      "execution_count": null,
      "metadata": {
        "id": "JQFd-bwussNW",
        "colab": {
          "base_uri": "https://localhost:8080/"
        },
        "outputId": "02b93c46-ea01-422b-d9fa-348d54731d06"
      },
      "outputs": [
        {
          "output_type": "execute_result",
          "data": {
            "text/plain": [
              "networkx.classes.graph.Graph"
            ]
          },
          "metadata": {},
          "execution_count": 9
        }
      ],
      "source": [
        "H = nx.Graph()\n",
        "type(H)"
      ]
    },
    {
      "cell_type": "code",
      "source": [
        "nx.draw(G)\n",
        "plt.show()"
      ],
      "metadata": {
        "colab": {
          "base_uri": "https://localhost:8080/",
          "height": 516
        },
        "id": "UPQZM8b-6Jpi",
        "outputId": "dd4fce13-24d0-414f-c8b0-a82e00b9c8d4"
      },
      "execution_count": null,
      "outputs": [
        {
          "output_type": "display_data",
          "data": {
            "text/plain": [
              "<Figure size 640x480 with 1 Axes>"
            ],
            "image/png": "[encoded data removed]"
          },
          "metadata": {}
        }
      ]
    },
    {
      "cell_type": "markdown",
      "metadata": {
        "id": "V9dOVKgFssNW"
      },
      "source": [
        "### Querying node information\n",
        "\n",
        "Let's now query for the nodeset:"
      ]
    },
    {
      "cell_type": "code",
      "execution_count": null,
      "metadata": {
        "id": "wzSJZgyJssNX",
        "colab": {
          "base_uri": "https://localhost:8080/"
        },
        "outputId": "982e15d0-d5a5-475f-c1c7-a4b9518b0a3e"
      },
      "outputs": [
        {
          "output_type": "execute_result",
          "data": {
            "text/plain": [
              "[1, 2, 3, 4, 5]"
            ]
          },
          "metadata": {},
          "execution_count": 10
        }
      ],
      "source": [
        "list(G.nodes())[0:5]"
      ]
    },
    {
      "cell_type": "markdown",
      "metadata": {
        "id": "K_-snd-XssNX"
      },
      "source": [
        "`G.nodes()` returns a \"view\" on the nodes.\n",
        "We can't actually slice into the view and grab out a sub-selection,\n",
        "but we can _at least_ see what nodes are present.\n",
        "For brevity, we have sliced into `G.nodes()` passed into a `list()` constructor,\n",
        "so that we don't pollute the output.\n",
        "Because a `NodeView` is iterable, though,\n",
        "we can query it for its length:"
      ]
    },
    {
      "cell_type": "code",
      "execution_count": null,
      "metadata": {
        "id": "v9bvFCVRssNY",
        "colab": {
          "base_uri": "https://localhost:8080/"
        },
        "outputId": "6d28bc18-8c91-44e5-ace5-4be578ca9179"
      },
      "outputs": [
        {
          "output_type": "execute_result",
          "data": {
            "text/plain": [
              "29"
            ]
          },
          "metadata": {},
          "execution_count": 11
        }
      ],
      "source": [
        "len(G.nodes())"
      ]
    },
    {
      "cell_type": "markdown",
      "metadata": {
        "id": "D-rXo1x8ssNZ"
      },
      "source": [
        "If our nodes have metadata attached to them,\n",
        "we can view the metadata at the same time\n",
        "by passing in `data=True`:"
      ]
    },
    {
      "cell_type": "code",
      "execution_count": null,
      "metadata": {
        "id": "DqtYVtifssNb",
        "colab": {
          "base_uri": "https://localhost:8080/"
        },
        "outputId": "d1692a88-ea59-4038-863a-9b8643e7e4da"
      },
      "outputs": [
        {
          "output_type": "execute_result",
          "data": {
            "text/plain": [
              "[(1, {'gender': 'male'}),\n",
              " (2, {'gender': 'male'}),\n",
              " (3, {'gender': 'male'}),\n",
              " (4, {'gender': 'male'}),\n",
              " (5, {'gender': 'male'})]"
            ]
          },
          "metadata": {},
          "execution_count": 12
        }
      ],
      "source": [
        "list(G.nodes(data=True))[0:5]"
      ]
    },
    {
      "cell_type": "markdown",
      "metadata": {
        "id": "dJ6QoqXxssNc"
      },
      "source": [
        "G.nodes(data=True) returns a `NodeDataView`,\n",
        "which you can see is dictionary-like.\n",
        "\n",
        "Additionally, we can select out individual nodes:"
      ]
    },
    {
      "cell_type": "code",
      "execution_count": null,
      "metadata": {
        "id": "VltMQ807ssNc",
        "colab": {
          "base_uri": "https://localhost:8080/"
        },
        "outputId": "cab4e7ac-767b-4e85-d806-096f3ab04426"
      },
      "outputs": [
        {
          "output_type": "execute_result",
          "data": {
            "text/plain": [
              "{'gender': 'male'}"
            ]
          },
          "metadata": {},
          "execution_count": 13
        }
      ],
      "source": [
        "G.nodes[1]"
      ]
    },
    {
      "cell_type": "markdown",
      "metadata": {
        "id": "zKgORPC-ssNd"
      },
      "source": [
        "Now, because a `NodeDataView` is dictionary-like,\n",
        "looping over `G.nodes(data=True)`\n",
        "is very much like looping over key-value pairs of a dictionary.\n",
        "As such, we can write things like:\n",
        "\n",
        "```python\n",
        "for n, d in G.nodes(data=True):\n",
        "    # n is the node\n",
        "    # d is the metadata dictionary\n",
        "    ...\n",
        "```\n",
        "\n",
        "This is analogous to how we would loop over a dictionary:\n",
        "\n",
        "```python\n",
        "for k, v in dictionary.items():\n",
        "    # do stuff in the loop\n",
        "```\n",
        "\n",
        "Naturally, this leads us to our first exercise.\n",
        "\n",
        "### Exercise: Summarizing node metadata\n",
        "\n",
        "> Can you count how many males and females are represented in the graph?"
      ]
    },
    {
      "cell_type": "code",
      "execution_count": null,
      "metadata": {
        "id": "eT57hC_vssNd"
      },
      "outputs": [],
      "source": [
        "#### REPLACE THE NEXT LINE WITH YOUR ANSWER\n"
      ]
    },
    {
      "cell_type": "markdown",
      "metadata": {
        "id": "lrMM6ic3ssNe"
      },
      "source": [
        "Test your implementation by checking it against the `test_answer` function below."
      ]
    },
    {
      "cell_type": "code",
      "execution_count": null,
      "metadata": {
        "id": "Aa2wa4WissNf"
      },
      "outputs": [],
      "source": [
        "from typing import Dict\n",
        "\n",
        "def test_answer(mf_counts: Dict):\n",
        "    assert mf_counts['female'] == 17\n",
        "    assert mf_counts['male'] == 12\n",
        "    \n",
        "test_answer(mf_counts)"
      ]
    },
    {
      "cell_type": "code",
      "source": [
        "test_answer(mf_counts)"
      ],
      "metadata": {
        "id": "nkqxAykz0geK"
      },
      "execution_count": null,
      "outputs": []
    },
    {
      "cell_type": "markdown",
      "metadata": {
        "id": "VxMH7hfZssNg"
      },
      "source": [
        "With this dictionary-like syntax,\n",
        "we can query back the metadata that's associated with any node."
      ]
    },
    {
      "cell_type": "markdown",
      "metadata": {
        "id": "3AwEvL9mssNh"
      },
      "source": [
        "### Querying edge information\n",
        "\n",
        "Now that you've learned how to query for node information,\n",
        "let's now see how to query for all of the edges in the graph:"
      ]
    },
    {
      "cell_type": "code",
      "execution_count": null,
      "metadata": {
        "id": "kHQjbV21ssNi",
        "colab": {
          "base_uri": "https://localhost:8080/"
        },
        "outputId": "566548c5-e3b2-4b7d-ecc2-317913a34b3a"
      },
      "outputs": [
        {
          "output_type": "execute_result",
          "data": {
            "text/plain": [
              "[(1, 2), (1, 3), (1, 4), (1, 5), (1, 6)]"
            ]
          },
          "metadata": {},
          "execution_count": 17
        }
      ],
      "source": [
        "list(G.edges())[0:5]"
      ]
    },
    {
      "cell_type": "markdown",
      "metadata": {
        "id": "_WeR4ABissNj"
      },
      "source": [
        "Similar to the `NodeView`, `G.edges()` returns an `EdgeView` that is also iterable.\n",
        "As with above, we have abbreviated the output inside a sliced list\n",
        "to keep things readable.\n",
        "Because `G.edges()` is iterable, we can get its length to see the number of edges\n",
        "that are present in a graph."
      ]
    },
    {
      "cell_type": "code",
      "execution_count": null,
      "metadata": {
        "id": "DV9sXH3kssNj",
        "colab": {
          "base_uri": "https://localhost:8080/"
        },
        "outputId": "87552d6c-13a5-4920-c12c-50068c1fa04f"
      },
      "outputs": [
        {
          "output_type": "execute_result",
          "data": {
            "text/plain": [
              "376"
            ]
          },
          "metadata": {},
          "execution_count": 22
        }
      ],
      "source": [
        "len(G.edges())"
      ]
    },
    {
      "cell_type": "markdown",
      "metadata": {
        "id": "y8q8i4WUssNk"
      },
      "source": [
        "Likewise, we can also query for all of the edge's metadata:"
      ]
    },
    {
      "cell_type": "code",
      "execution_count": null,
      "metadata": {
        "id": "_Syc2HsgssNk",
        "colab": {
          "base_uri": "https://localhost:8080/"
        },
        "outputId": "2aa3a2fb-cae5-4933-d275-f4a31d37b4f8"
      },
      "outputs": [
        {
          "output_type": "execute_result",
          "data": {
            "text/plain": [
              "[(1, 2, {'count': 1}),\n",
              " (1, 3, {'count': 1}),\n",
              " (1, 4, {'count': 2}),\n",
              " (1, 5, {'count': 2}),\n",
              " (1, 6, {'count': 3})]"
            ]
          },
          "metadata": {},
          "execution_count": 23
        }
      ],
      "source": [
        "list(G.edges(data=True))[0:5]"
      ]
    },
    {
      "cell_type": "markdown",
      "metadata": {
        "id": "fvSHHInVssNl"
      },
      "source": [
        "Additionally, it is possible for us to select out individual edges, as long as they exist in the graph:"
      ]
    },
    {
      "cell_type": "code",
      "execution_count": null,
      "metadata": {
        "id": "8x1K9Ne1ssNm",
        "colab": {
          "base_uri": "https://localhost:8080/"
        },
        "outputId": "d9dcb597-0573-4ef5-a0f8-cfdff1337cfa"
      },
      "outputs": [
        {
          "output_type": "execute_result",
          "data": {
            "text/plain": [
              "{'count': 2}"
            ]
          },
          "metadata": {},
          "execution_count": 24
        }
      ],
      "source": [
        "G.edges[15, 10]"
      ]
    },
    {
      "cell_type": "markdown",
      "metadata": {
        "id": "lbj7YyzMssNm"
      },
      "source": [
        "This yields the metadata dictionary for that edge.\n",
        "\n",
        "If the edge does not exist, then we get an error:\n",
        "\n",
        "```python\n",
        ">>> G.edges[15, 16]\n",
        "```\n",
        "\n",
        "```python\n",
        "---------------------------------------------------------------------------\n",
        "KeyError                                  Traceback (most recent call last)\n",
        "<ipython-input-21-ce014cab875a> in <module>\n",
        "----> 1 G.edges[15, 16]\n",
        "\n",
        "~/anaconda/envs/nams/lib/python3.7/site-packages/networkx/classes/reportviews.py in __getitem__(self, e)\n",
        "    928     def __getitem__(self, e):\n",
        "    929         u, v = e\n",
        "--> 930         return self._adjdict[u][v]\n",
        "    931 \n",
        "    932     # EdgeDataView methods\n",
        "\n",
        "KeyError: 16\n",
        "```"
      ]
    },
    {
      "cell_type": "markdown",
      "metadata": {
        "id": "LRdiwm3ussNn"
      },
      "source": [
        "As with the `NodeDataView`, the `EdgeDataView` is dictionary-like,\n",
        "with the difference being that the keys are 2-tuple-like\n",
        "instead of being single hashable objects.\n",
        "Thus, we can write syntax like the following to loop over the edgelist:\n",
        "\n",
        "```python\n",
        "for n1, n2, d in G.edges(data=True):\n",
        "    # n1, n2 are the nodes\n",
        "    # d is the metadata dictionary\n",
        "    ...\n",
        "```\n",
        "\n",
        "Naturally, this leads us to our next exercise."
      ]
    },
    {
      "cell_type": "code",
      "source": [
        "#### REPLACE THE NEXT LINE WITH YOUR ANSWER"
      ],
      "metadata": {
        "id": "YhwG2htY1IM4"
      },
      "execution_count": null,
      "outputs": []
    },
    {
      "cell_type": "markdown",
      "metadata": {
        "id": "o4YgpfeQssNo"
      },
      "source": [
        "### Exercise: Summarizing edge metadata\n",
        "\n",
        "> Can you write code to verify\n",
        "> that the maximum times any student rated another student as their favourite\n",
        "> is 3 times?"
      ]
    },
    {
      "cell_type": "markdown",
      "metadata": {
        "id": "NEgwRKAUssNp"
      },
      "source": [
        "Likewise, you can test your answer using the test function below:"
      ]
    },
    {
      "cell_type": "code",
      "execution_count": null,
      "metadata": {
        "id": "fkzOzGL-ssNp"
      },
      "outputs": [],
      "source": [
        "def test_maxcount(maxcount):\n",
        "    assert maxcount == 3\n"
      ]
    },
    {
      "cell_type": "markdown",
      "metadata": {
        "id": "iviX0OkQssNq"
      },
      "source": [
        "## Manipulating the graph\n",
        "\n",
        "Great stuff! You now know how to query a graph for:\n",
        "\n",
        "- its node set, optionally including metadata\n",
        "- individual node metadata\n",
        "- its edge set, optionally including metadata, and \n",
        "- individual edges' metadata\n",
        "\n",
        "Now, let's learn how to manipulate the graph.\n",
        "Specifically, we'll learn how to add nodes and edges to a graph.\n",
        "\n",
        "### Adding Nodes\n",
        "\n",
        "The NetworkX graph API lets you add a node easily:\n",
        "\n",
        "```python\n",
        "G.add_node(node, node_data1=some_value, node_data2=some_value)\n",
        "```\n",
        "\n",
        "### Adding Edges\n",
        "\n",
        "It also allows you to add an edge easily:\n",
        "\n",
        "```python\n",
        "G.add_edge(node1, node2, edge_data1=some_value, edge_data2=some_value)\n",
        "```\n",
        "\n",
        "### Metadata by Keyword Arguments\n",
        "\n",
        "In both cases, the keyword arguments that are passed into `.add_node()`\n",
        "are automatically collected into the metadata dictionary.\n",
        "\n",
        "Knowing this gives you enough knowledge to tackle the next exercise.\n",
        "\n",
        "### Exercise: adding students to the graph\n",
        "\n",
        "> We found out that there are two students that we left out of the network,\n",
        "> student no. 30 and 31. \n",
        "> They are one male (30) and one female (31), \n",
        "> and they are a pair that just love hanging out with one another \n",
        "> and with individual 7 (i.e. `count=3`), in both directions per pair. \n",
        "> Add this information to the graph."
      ]
    },
    {
      "cell_type": "code",
      "execution_count": null,
      "metadata": {
        "id": "qdYf9Rk2ssNr"
      },
      "outputs": [],
      "source": [
        "#### REPLACE THE NEXT LINE WITH YOUR ANSWER\n"
      ]
    },
    {
      "cell_type": "markdown",
      "metadata": {
        "id": "X3_E6kqMssNs"
      },
      "source": [
        "You can verify that the graph has been correctly created\n",
        "by executing the test function below."
      ]
    },
    {
      "cell_type": "code",
      "execution_count": null,
      "metadata": {
        "id": "2WeHft4xssNs"
      },
      "outputs": [],
      "source": [
        "def test_graph_integrity(G):\n",
        "    assert 30 in G.nodes()\n",
        "    assert 31 in G.nodes()\n",
        "    assert G.nodes[30]['gender'] == 'male'\n",
        "    assert G.nodes[31]['gender'] == 'female'\n",
        "    assert G.has_edge(30, 31)\n",
        "    assert G.has_edge(30, 7)\n",
        "    assert G.has_edge(31, 7)\n",
        "    assert G.edges[30, 7]['count'] == 3\n",
        "    assert G.edges[7, 30]['count'] == 3\n",
        "    assert G.edges[31, 7]['count'] == 3\n",
        "    assert G.edges[7, 31]['count'] == 3\n",
        "    assert G.edges[30, 31]['count'] == 3\n",
        "    assert G.edges[31, 30]['count'] == 3\n",
        "    print('All tests passed.')\n",
        "    \n",
        "test_graph_integrity(G)"
      ]
    },
    {
      "cell_type": "markdown",
      "metadata": {
        "id": "CdbEwLmussNt"
      },
      "source": [
        "## Coding Patterns\n",
        "\n",
        "These are some recommended coding patterns when doing network analysis using NetworkX,\n",
        "which stem from my personal experience with the package."
      ]
    },
    {
      "cell_type": "markdown",
      "metadata": {
        "id": "bkbLrJqfssNu"
      },
      "source": [
        "### Iterating using List Comprehensions\n",
        "I would recommend that you use the following for compactness: \n",
        "\n",
        "```python\n",
        "[d['attr'] for n, d in G.nodes(data=True)]\n",
        "```\n",
        "\n",
        "And if the node is unimportant, you can do:\n",
        "\n",
        "```python\n",
        "[d['attr'] for _, d in G.nodes(data=True)]\n",
        "```"
      ]
    },
    {
      "cell_type": "markdown",
      "metadata": {
        "id": "cjJ8Vol6ssNv"
      },
      "source": [
        "### Iterating over Edges using List Comprehensions\n",
        "\n",
        "A similar pattern can be used for edges:\n",
        "\n",
        "```python\n",
        "[n2 for n1, n2, d in G.edges(data=True)]\n",
        "```\n",
        "\n",
        "or\n",
        "\n",
        "```python\n",
        "[n2 for _, n2, d in G.edges(data=True)]\n",
        "```\n",
        "\n",
        "If the graph you are constructing is a directed graph,\n",
        "with a \"source\" and \"sink\" available,\n",
        "then I would recommend the following naming of variables instead:\n",
        "\n",
        "```python\n",
        "[(sc, sk) for sc, sk, d in G.edges(data=True)]\n",
        "```\n",
        "\n",
        "or \n",
        "\n",
        "```python\n",
        "[d['attr'] for sc, sk, d in G.edges(data=True)]\n",
        "```"
      ]
    },
    {
      "cell_type": "markdown",
      "metadata": {
        "id": "0Olf1djRssNw"
      },
      "source": [
        "## Further Reading\n",
        "\n",
        "For a deeper look at the NetworkX API,\n",
        "be sure to check out the [NetworkX docs][nxdocs].\n",
        "\n",
        "[nxdocs]: https://networkx.readthedocs.io"
      ]
    },
    {
      "cell_type": "markdown",
      "metadata": {
        "id": "uOWPqXjNssNy"
      },
      "source": [
        "## Further Exercises\n",
        "\n",
        "Here's some further exercises that you can use to get some practice.\n",
        "\n",
        "### Exercise: Unrequited Friendships\n",
        "\n",
        "> Try figuring out which students have \"unrequited\" friendships, that is, \n",
        "> they have rated another student as their favourite at least once, \n",
        "> but that other student has not rated them as their favourite at least once.\n",
        "\n",
        "_Hint: the goal here is to get a list of edges for which the reverse edge is not present._\n",
        "\n",
        "_Hint: You may need the class method `G.has_edge(n1, n2)`. This returns whether a graph has an edge between the nodes `n1` and `n2`._"
      ]
    },
    {
      "cell_type": "code",
      "source": [
        "#### REPLACE THE NEXT LINE WITH YOUR ANSWER\n"
      ],
      "metadata": {
        "id": "1SkM8nk7wH8s"
      },
      "execution_count": null,
      "outputs": []
    },
    {
      "cell_type": "markdown",
      "metadata": {
        "id": "GU12NkqcssN0"
      },
      "source": [
        "In a previous session at ODSC East 2018, a few other class participants provided the following solutions,\n",
        "which you can take a look at by uncommenting the following cells."
      ]
    },
    {
      "cell_type": "markdown",
      "source": [
        "# Introduction to Graph Visualization"
      ],
      "metadata": {
        "id": "Z9u5pGhQ3SI9"
      }
    },
    {
      "cell_type": "code",
      "execution_count": null,
      "metadata": {
        "id": "t0j4zs413cYD"
      },
      "outputs": [],
      "source": [
        "%load_ext autoreload\n",
        "%autoreload 2\n",
        "%matplotlib inline\n",
        "%config InlineBackend.figure_format = 'retina'\n",
        "import warnings\n",
        "warnings.filterwarnings('ignore')"
      ]
    },
    {
      "cell_type": "code",
      "execution_count": null,
      "metadata": {
        "id": "D3NdzBdE3cYK"
      },
      "outputs": [],
      "source": [
        "from IPython.display import YouTubeVideo\n",
        "\n",
        "YouTubeVideo(id=\"v9HrR_AF5Zc\", width=\"100%\")"
      ]
    },
    {
      "cell_type": "markdown",
      "metadata": {
        "id": "WPW46u623cYM"
      },
      "source": [
        "In this chapter, We want to introduce you to the wonderful world of graph visualization.\n",
        "\n",
        "You probably have seen graphs that are visualized as hairballs.\n",
        "Apart from communicating how complex the graph is,\n",
        "hairballs don't really communicate much else.\n",
        "As such, my goal by the end of this chapter is \n",
        "to introduce you to what I call _rational graph visualization_.\n",
        "\n",
        "But before we can do that, let's first make sure we understand\n",
        "how to use NetworkX's drawing facilities to draw graphs to the screen.\n",
        "In a pinch, and for small graphs, it's very handy to have."
      ]
    },
    {
      "cell_type": "markdown",
      "metadata": {
        "id": "Q0Nm9ABm3cYN"
      },
      "source": [
        "## Hairballs\n",
        "\n",
        "The node-link diagram is the canonical diagram we will see in publications.\n",
        "Nodes are commonly drawn as circles, while edges are drawn s lines.\n",
        "\n",
        "Node-link diagrams are common,\n",
        "and there's a good reason for this: it's convenient to draw!\n",
        "In NetworkX, we can draw node-link diagrams using:"
      ]
    },
    {
      "cell_type": "code",
      "execution_count": null,
      "metadata": {
        "id": "sdi_2Z_q3cYO"
      },
      "outputs": [],
      "source": [
        "import networkx as nx\n",
        "import matplotlib.pyplot as plt\n"
      ]
    },
    {
      "cell_type": "code",
      "execution_count": null,
      "metadata": {
        "id": "Ijrruv4Y3cYP"
      },
      "outputs": [],
      "source": [
        "nx.draw(G)"
      ]
    },
    {
      "cell_type": "markdown",
      "metadata": {
        "id": "MLe8eX-33cYQ"
      },
      "source": [
        "Nodes more tightly connected with one another are clustered together. \n",
        "Initial node placement is done typically at random,\n",
        "so really it's tough to deterministically generate the same figure.\n",
        "If the network is small enough to visualize,\n",
        "and the node labels are small enough to fit in a circle,\n",
        "then you can use the `with_labels=True` argument\n",
        "to bring some degree of informativeness to the drawing:"
      ]
    },
    {
      "cell_type": "code",
      "execution_count": null,
      "metadata": {
        "id": "dgFH18wS3cYS"
      },
      "outputs": [],
      "source": [
        "G.is_directed()"
      ]
    },
    {
      "cell_type": "code",
      "execution_count": null,
      "metadata": {
        "id": "WcQpRA8P3cYV"
      },
      "outputs": [],
      "source": [
        "nx.draw(G, with_labels=True)"
      ]
    },
    {
      "cell_type": "markdown",
      "metadata": {
        "id": "QzTkEvC-3cYW"
      },
      "source": [
        "The downside to drawing graphs this way is that\n",
        "large graphs end up looking like hairballs.\n",
        "Can you imagine a graph with more than the 28 nodes that we have?\n",
        "As you probably can imagine, the default `nx.draw(G)`\n",
        "is probably not suitable for generating visual insights.\n",
        "\n",
        "## Matrix Plot\n",
        "\n",
        "A different way that we can visualize a graph is by visualizing it in its matrix form.\n",
        "The nodes are on the x- and y- axes, and a filled square represent an edge between the nodes.\n",
        "\n",
        "We can draw a graph's matrix form conveniently by using `nxviz.MatrixPlot`:"
      ]
    },
    {
      "cell_type": "code",
      "execution_count": null,
      "metadata": {
        "tags": [],
        "id": "tjFPSt-w3cYX"
      },
      "outputs": [],
      "source": [
        "import nxviz as nv \n",
        "from nxviz import annotate\n",
        "\n",
        "\n",
        "nv.matrix(G, group_by=\"gender\", node_color_by=\"gender\")\n",
        "annotate.matrix_group(G, group_by=\"gender\")"
      ]
    },
    {
      "cell_type": "markdown",
      "metadata": {
        "id": "udTQHlVm3cYY"
      },
      "source": [
        "What can you tell from the graph visualization?\n",
        "A few things are immediately obvious:\n",
        "\n",
        "- The diagonal is empty: no student voted for themselves as their favourite.\n",
        "- The matrix is asymmetric about the diagonal: this is a directed graph!\n",
        "\n",
        "(An undirected graph would be symmetric about the diagonal.)\n",
        "\n",
        "You might go on to suggest that there is some clustering happening,\n",
        "but without applying a proper clustering algorithm on the adjacency matrix,\n",
        "we would be hard-pressed to know for sure.\n",
        "After all, we can simply re-order the node ordering along the axes\n",
        "to produce a seemingly-random matrix."
      ]
    },
    {
      "cell_type": "markdown",
      "metadata": {
        "id": "R1sT18x73cYZ"
      },
      "source": [
        "## Arc Plot\n",
        "\n",
        "The Arc Plot is another rational graph visualization.\n",
        "Here, we line up the nodes along a horizontal axis,\n",
        "and draw _arcs_ between nodes if they are connected by an edge.\n",
        "We can also optionally group and colour them by some metadata.\n",
        "In the case of this student graph,\n",
        "we group and colour them by \"gender\"."
      ]
    },
    {
      "cell_type": "code",
      "execution_count": null,
      "metadata": {
        "tags": [],
        "id": "bUznO6S23cYZ"
      },
      "outputs": [],
      "source": [
        "# a = ArcPlot(G, node_color='gender', node_grouping='gender')\n",
        "nv.arc(G, node_color_by=\"gender\", group_by=\"gender\")\n",
        "annotate.arc_group(G, group_by=\"gender\")"
      ]
    },
    {
      "cell_type": "markdown",
      "metadata": {
        "id": "X1V_Y4143cYa"
      },
      "source": [
        "The Arc Plot forms the basis of the next visualization,\n",
        "the highly popular Circos plot."
      ]
    },
    {
      "cell_type": "markdown",
      "metadata": {
        "id": "nOi03j6X3cYb"
      },
      "source": [
        "## Circos Plot\n",
        "\n",
        "The Circos Plot was developed by [Martin Krzywinski][bccrc] at the BC Cancer Research Center. The `nxviz.CircosPlot` takes inspiration from the original by joining the two ends of the Arc Plot into a circle. Likewise, we can colour and order nodes by node metadata:\n",
        "\n",
        "[bccrc]: http://circos.ca/"
      ]
    },
    {
      "cell_type": "code",
      "execution_count": null,
      "metadata": {
        "tags": [],
        "id": "dmRg6IhW3cYc"
      },
      "outputs": [],
      "source": [
        "nv.circos(G, group_by=\"gender\", node_color_by=\"gender\")\n",
        "annotate.circos_group(G, group_by=\"gender\")"
      ]
    },
    {
      "cell_type": "markdown",
      "metadata": {
        "id": "l5zkYdrh3cYd"
      },
      "source": [
        "Generally speaking, you can think of a Circos Plot as being\n",
        "a more compact and aesthetically pleasing version of Arc Plots."
      ]
    },
    {
      "cell_type": "markdown",
      "metadata": {
        "id": "xNfBXAk43cYd"
      },
      "source": [
        "## Hive Plot\n",
        "\n",
        "The final plot we'll show is, Hive Plots."
      ]
    },
    {
      "cell_type": "code",
      "execution_count": null,
      "metadata": {
        "tags": [],
        "id": "7ELT70f23cYe"
      },
      "outputs": [],
      "source": [
        "from nxviz import plots\n",
        "import matplotlib.pyplot as plt \n",
        "\n",
        "nv.hive(G, group_by=\"gender\", node_color_by=\"gender\")\n",
        "annotate.hive_group(G, group_by=\"gender\")"
      ]
    },
    {
      "cell_type": "markdown",
      "metadata": {
        "id": "KRJ_v1sK3cYe"
      },
      "source": [
        "As you can see, with Hive Plots,\n",
        "we first group nodes along two or three radial axes.\n",
        "In this case, we have the boys along one radial axis\n",
        "and the girls along the other.\n",
        "We can also order the nodes along each axis if we so choose to.\n",
        "In this case, no particular ordering is chosen.\n",
        "\n",
        "Next, we draw edges.\n",
        "We start first with edges _between_ groups.\n",
        "That is shown on the left side of the figure,\n",
        "joining nodes in the \"yellow\" and \"green\" (boys/girls) groups.\n",
        "We then proceed to edges _within_ groups.\n",
        "This is done by cloning the node radial axis\n",
        "before drawing edges."
      ]
    },
    {
      "cell_type": "markdown",
      "metadata": {
        "id": "-IRTKQ-L3cYf"
      },
      "source": [
        "## Principles of Rational Graph Viz\n",
        "\n",
        "While I was implementing these visualizations in `nxviz`,\n",
        "I learned an important lesson in implementing graph visualizations in general:\n",
        "\n",
        "> To be most informative and communicative,\n",
        "> a graph visualization should first prioritize node placement\n",
        "> in a fashion that makes sense.\n",
        "\n",
        "In some ways, this makes a ton of sense.\n",
        "The nodes are the \"entities\" in a graph,\n",
        "corresponding to people, proteins, and ports.\n",
        "For \"entities\", we have natural ways to group, order and summarize (reduce).\n",
        "(An example of a \"reduction\" is counting the number of things.)\n",
        "Prioritizing node placement allows us\n",
        "to appeal to our audience's natural sense of grouping, ordering and reduction.\n",
        "\n",
        "So the next time you see a hairball,\n",
        "I hope you're able to critique it for what it doesn't communicate,\n",
        "and possibly use the same principle to design a better visualization!"
      ]
    }
  ]
}